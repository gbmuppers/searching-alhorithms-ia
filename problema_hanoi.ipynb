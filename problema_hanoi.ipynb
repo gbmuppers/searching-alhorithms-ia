{
  "nbformat": 4,
  "nbformat_minor": 0,
  "metadata": {
    "language_info": {
      "codemirror_mode": {
        "name": "ipython",
        "version": 3
      },
      "file_extension": ".py",
      "mimetype": "text/x-python",
      "name": "python",
      "nbconvert_exporter": "python",
      "pygments_lexer": "ipython3",
      "version": "3.7.5-final"
    },
    "orig_nbformat": 2,
    "kernelspec": {
      "name": "python3",
      "display_name": "Python 3",
      "language": "python"
    },
    "colab": {
      "name": "FRANCISCO_OJEDA_GIBRAN. (ACTIVIDAD 3. T4).ipynb",
      "provenance": [],
      "collapsed_sections": []
    }
  },
  "cells": [
    {
      "cell_type": "code",
      "metadata": {
        "id": "zmpxykdCMrSw"
      },
      "source": [
        "import copy\n",
        "import collections\n",
        "import resource\n",
        "import sys\n",
        "import time\n",
        "from collections import deque"
      ],
      "execution_count": 20,
      "outputs": []
    },
    {
      "cell_type": "code",
      "metadata": {
        "id": "98a2OYBtOJ-V"
      },
      "source": [
        "class Stack:\n",
        "     def __init__(self):\n",
        "         self.items = []\n",
        "\n",
        "     def isEmpty(self):\n",
        "         return self.items == []\n",
        "\n",
        "     def push(self, item):\n",
        "         self.items.append(item)\n",
        "\n",
        "     def pop(self):\n",
        "         return self.items.pop()\n",
        "\n",
        "     def peek(self):\n",
        "         return self.items[len(self.items)-1]\n",
        "\n",
        "     def size(self):\n",
        "         return len(self.items)"
      ],
      "execution_count": 21,
      "outputs": []
    },
    {
      "cell_type": "code",
      "metadata": {
        "id": "RZGDW_JpMrSw"
      },
      "source": [
        "class Hanoi:\n",
        "    \n",
        "    nodo_anterior = None\n",
        "\n",
        "    def __init__(self, torre_izquierda, torre_centro, torre_derecha):\n",
        "        self.hanoi = [torre_izquierda, torre_centro, torre_derecha]\n",
        "        self.movements =[]\n",
        "\n",
        "    def is_state_goal(self):\n",
        "        return (self.hanoi[1].isEmpty() and self.hanoi[0].isEmpty()) or (self.hanoi[2].isEmpty() and self.hanoi[0].isEmpty())\n",
        "\n",
        "    def print_towers(self):\n",
        "        __hanoi = copy.deepcopy(self.hanoi)\n",
        "        for disks in __hanoi:\n",
        "            print(disks.items)\n",
        "        print(\"\\n\")\n",
        "\n",
        "    def addMovement(self, from_t, to_t):\n",
        "        __hanoi = copy.deepcopy(self.hanoi)\n",
        "        movement = Hanoi(__hanoi[0],__hanoi[1],__hanoi[2])\n",
        "        flag = movement.moveDisk(from_t, to_t)\n",
        "        if flag:\n",
        "            self.movements.append(movement)\n",
        "\n",
        "    def moveDisk(self, d_from, d_to):\n",
        "        if d_from != d_to:\n",
        "            if (not self.hanoi[d_to].isEmpty()) and (not self.hanoi[d_from].isEmpty()):\n",
        "                if self.hanoi[d_from].peek() < self.hanoi[d_to].peek():\n",
        "                    self.hanoi[d_to].push(self.hanoi[d_from].pop())\n",
        "                    return True\n",
        "            if self.hanoi[d_to].isEmpty() and (not self.hanoi[d_from].isEmpty()):\n",
        "                self.hanoi[d_to].push(self.hanoi[d_from].pop())\n",
        "                return True\n",
        "        return False\n",
        "                \n",
        "    \n",
        "    def generate_movements(self):\n",
        "        for x in range(3):\n",
        "            if x== 0:\n",
        "                self.addMovement(x,x+1)\n",
        "                self.addMovement(x,x+2)\n",
        "            if x==1:\n",
        "                self.addMovement(x,x+1)\n",
        "                self.addMovement(x,x-1)\n",
        "            if x==2:\n",
        "                self.addMovement(x,x-1)\n",
        "                self.addMovement(x,x-2)\n",
        "    \n",
        "    def depth_first_search(self):\n",
        "        global state_counter\n",
        "        state_counter = state_counter + 1\n",
        "        self.generate_movements()\n",
        "        for mv in self.movements:\n",
        "            if trace.size() < 45:\n",
        "                trace.push(mv)\n",
        "                if not mv.is_state_goal():\n",
        "                    var = mv.depth_first_search()\n",
        "                    if var == True:\n",
        "                        return True\n",
        "                    else:\n",
        "                        trace.pop()\n",
        "                else:\n",
        "                    return True\n",
        "            else:\n",
        "                trace.push(mv)\n",
        "                if not mv.is_state_goal():\n",
        "                    trace.pop()\n",
        "                else:\n",
        "                    return True\n",
        "\n",
        "    def genera_movimientos_bsf(self):\n",
        "        self.generate_movements()\n",
        "        __hanoi = copy.deepcopy(self.hanoi)\n",
        "        current_hanoi = Hanoi(__hanoi[0],__hanoi[1],__hanoi[2])\n",
        "        current_hanoi.nodo_anterior = self.nodo_anterior\n",
        "        \n",
        "        cola_bfs.append(current_hanoi)\n",
        "        for mv in self.movements:\n",
        "            mv.nodo_anterior = copy.deepcopy(current_hanoi)\n",
        "            cola_bfs.append(mv)\n",
        "\n",
        "    def breadth_first_search(self):\n",
        "        global state_counter\n",
        "        state_counter = state_counter + 1\n",
        "        self.genera_movimientos_bsf()\n",
        "        hanoi_t = cola_bfs.popleft()\n",
        "        if hanoi_t.is_state_goal():\n",
        "            return hanoi_t\n",
        "        else:\n",
        "            return hanoi_t.breadth_first_search()"
      ],
      "execution_count": 22,
      "outputs": []
    },
    {
      "cell_type": "code",
      "metadata": {
        "colab": {
          "base_uri": "https://localhost:8080/"
        },
        "id": "zHZ79hCbMrSy",
        "outputId": "d4e09b41-2b94-4b3e-ab07-7219bfe8212e"
      },
      "source": [
        "\"\"\"Para evitar que a  python le de amsiedad por usar recursión\"\"\"\n",
        "sys.setrecursionlimit(1000000)\n",
        "\n",
        "\"\"\"Stack para la ruta seguida para encontrar el resultado\"\"\"\n",
        "trace = Stack()\n",
        "state_counter = 0\n",
        "\"\"\"\n",
        "Nuestras torrecitas iniciales\n",
        "[3,2,1] izquierda\n",
        "[]      centro\n",
        "[]      derecha\n",
        "\"\"\"\n",
        "izquierda = Stack()\n",
        "centro = Stack()\n",
        "derecha = Stack()\n",
        "numero_discos = 0\n",
        "\n",
        "\"\"\"\n",
        "Lo limité a 4 discos, para evitar que alguien quiera hacer una mounstrosidad de más discos xd\n",
        "\"\"\"\n",
        "while not (numero_discos > 1 and numero_discos < 5):\n",
        "    numero_discos = int(input(\"Problema de Torres de Hanoi DFS\\nIngrese el número de discos que desea: \"))\n",
        "\n",
        "for i in range(numero_discos, 0, -1):\n",
        "    izquierda.push(i)\n",
        "\n",
        "hanoi_inicial = Hanoi(izquierda,centro,derecha)\n",
        "trace.push(hanoi_inicial)\n",
        "start_dfs_hanoi = time.time()\n",
        "hanoi_inicial.depth_first_search()\n",
        "end_dfs_hanoi = time.time()\n",
        "\n",
        "print(\"Búsqueda en profundidad para el problema de las Torres de Hanoi con\",numero_discos,\"discos\\n\")\n",
        "print(\"\\nBúsqueda finalizada en\",end_dfs_hanoi - start_dfs_hanoi,\"segundos\\n\")\n",
        "print(state_counter+1,\" estados recorridos\\n\")\n",
        "dfs = Stack()\n",
        "\n",
        "while not trace.isEmpty():\n",
        "    dfs.push(trace.pop())\n",
        "\n",
        "while not dfs.isEmpty():\n",
        "    dfs.pop().print_towers()"
      ],
      "execution_count": 23,
      "outputs": [
        {
          "output_type": "stream",
          "name": "stdout",
          "text": [
            "\nBúsqueda finalizada en 0.004018545150756836 segundos\n\n4  estados recorridos\n\nBúsqueda en profundidad para el problema de las Torres de Hanoi con 2 discos\n\n[2, 1]\n[]\n[]\n\n\n[2]\n[1]\n[]\n\n\n[]\n[1]\n[2]\n\n\n[]\n[]\n[2, 1]\n\n\n"
          ]
        }
      ]
    },
    {
      "cell_type": "code",
      "metadata": {
        "colab": {
          "base_uri": "https://localhost:8080/"
        },
        "id": "giYEGOBTMrSz",
        "outputId": "7ee49a48-7844-4434-86ef-e99e754eb5bc"
      },
      "source": [
        "\"\"\"\n",
        "Para evitar que a  python le de amsiedad por usar recursión\n",
        "\"\"\"\n",
        "sys.setrecursionlimit(1000000)  # to temporarily solve Recursion Depth Limit issue\n",
        "\n",
        "\"\"\"\n",
        "Queue para la ruta seguida para encontrar el resultado\n",
        "\"\"\"\n",
        "cola_bfs = deque()\n",
        "state_counter = 0\n",
        "\"\"\"\n",
        "Nuestras torrecitas iniciales\n",
        "[3,2,1] izquierda\n",
        "[]      centro\n",
        "[]      derecha\n",
        "\"\"\"\n",
        "izquierda = Stack()\n",
        "centro = Stack()\n",
        "derecha = Stack()\n",
        "numero_discos = 0\n",
        "\n",
        "\"\"\"\n",
        "Lo limité a 4 discos, para evitar que alguien quiera hacer una mounstrosidad de más discos xd\n",
        "\"\"\"\n",
        "while not (numero_discos > 1 and numero_discos < 5):\n",
        "    numero_discos = int(input(\"Problema de Torres de Hanoi BFS\\nIngrese el número de discos que desea: \"))\n",
        "\n",
        "for i in range(numero_discos, 0, -1):\n",
        "    izquierda.push(i)\n",
        "\n",
        "hanoi_inicial = Hanoi(izquierda,centro,derecha) \n",
        "\n",
        "\n",
        "start_dfs_hanoi = time.time()\n",
        "hanoi_bfs = hanoi_inicial.breadth_first_search()\n",
        "end_dfs_hanoi = time.time()\n",
        "\n",
        "print(\"Búsqueda en anchura para el problema de las Torres de Hanoi con\",numero_discos,\"discos\\n\")\n",
        "print(\"\\nBúsqueda finalizada en\",end_dfs_hanoi - start_dfs_hanoi,\"segundos\\n\")\n",
        "print(state_counter+1,\" estados recorridos\\n\")\n",
        "\n",
        "\n",
        "\n",
        "\n",
        "\n",
        "\n",
        "\n",
        "\n",
        "\n"
      ],
      "execution_count": 24,
      "outputs": [
        {
          "output_type": "stream",
          "name": "stdout",
          "text": [
            "Búsqueda en anchura para el problema de las Torres de Hanoi con 2 discos\n\n\nBúsqueda finalizada en 0.08773970603942871 segundos\n\n32  estados recorridos\n\n"
          ]
        }
      ]
    },
    {
      "cell_type": "code",
      "execution_count": null,
      "metadata": {},
      "outputs": [],
      "source": []
    }
  ]
}